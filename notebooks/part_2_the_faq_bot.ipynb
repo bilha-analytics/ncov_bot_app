{
 "cells": [
  {
   "cell_type": "markdown",
   "metadata": {},
   "source": [
    "# COVID 19 FAQ Bot\n",
    "- User input gets classified into some category, upon which the appropriate answer is matched\n",
    "- Data Sources: WHO, CDC, JHU, MoH KE\n",
    "\n",
    "\n",
    "**The Data**\n",
    "- Pulling data from known disease/pandemic authorities such as CDC and WHO\n",
    "\n",
    "- Also getting KE national government content. These are static data; knowledge already in place. TODO: a channel for news updates \n",
    "\n",
    "- Data is maintained in a Gsheet and can make updates/additions/etc from there\n",
    "\n",
    "- Clean and classify the above data to have two datasets\n",
    "    - FAQ_db: This is the knowledge base. One to one mapping of class categories and response paragraphs. Has two main fields: class_category, response_p. Additional fields: src, src_link \n",
    "    - Phrases_db: This is the training set on questions/input that users may present to the bot. Has two main fields: input_phrase, class_category \n",
    "    \n",
    "**Approach**\n",
    "- Retrieval based chat bot. \n"
   ]
  },
  {
   "cell_type": "code",
   "execution_count": 1,
   "metadata": {},
   "outputs": [],
   "source": [
    "%store -r __jhu_map"
   ]
  },
  {
   "cell_type": "raw",
   "metadata": {},
   "source": [
    "<script>\n",
    "code_show=true; \n",
    "function code_toggle() {\n",
    " if (code_show){\n",
    " $('div.input').hide();\n",
    " } else {\n",
    " $('div.input').show();\n",
    " }\n",
    " code_show = !code_show\n",
    "} \n",
    "$( document ).ready(code_toggle);\n",
    "</script>\n",
    "<a href=\"javascript:code_toggle()\">Show/Hide Code</a>."
   ]
  },
  {
   "cell_type": "markdown",
   "metadata": {},
   "source": [
    "**Here's the JHU tracker**\n",
    "[Link to map FAQ](https://coronavirus.jhu.edu/map-faq)"
   ]
  },
  {
   "cell_type": "code",
   "execution_count": 2,
   "metadata": {},
   "outputs": [],
   "source": [
    "__jhu_map"
   ]
  },
  {
   "cell_type": "code",
   "execution_count": 3,
   "metadata": {},
   "outputs": [],
   "source": [
    "%run utilz_includez.ipynb"
   ]
  },
  {
   "cell_type": "code",
   "execution_count": 6,
   "metadata": {},
   "outputs": [],
   "source": [
    "import sys\n",
    "sys.path.append('..')\n",
    "sys.path.append('../envbin')\n",
    "import zdata_source\n",
    "import zbot_logic\n",
    "from zbot_logic import ZBotLogicFlow\n",
    "\n",
    "\n",
    "import random\n",
    "\n",
    "logging.getLogger('zmoi').disabled = True\n",
    "\n",
    "ZAPP_NAME = 'ncov19_tfidf_faq'"
   ]
  },
  {
   "cell_type": "markdown",
   "metadata": {},
   "source": [
    "# Interact with trained model\n",
    "- RECALL:Using TF-IDF Cosine Similarity. "
   ]
  },
  {
   "cell_type": "code",
   "execution_count": 8,
   "metadata": {},
   "outputs": [
    {
     "name": "stderr",
     "output_type": "stream",
     "text": [
      "INFOR   : 2020-04-21 20:51:42.605831 [\u001b[34m<class 'envbin.zmodel_cosine_similarity.ZCosineSimilarity'>.model.load\u001b[0m] Model loaded from file successfully\n",
      "INFOR   : 2020-04-21 20:51:42.607826 [\u001b[34m<class 'envbin.zmodel_cosine_similarity.ZCosineSimilarity'>.model.load\u001b[0m] Persist unpacked successfully\n"
     ]
    },
    {
     "name": "stdout",
     "output_type": "stream",
     "text": [
      "TfidfVectorizer(analyzer='word', binary=False, decode_error='strict',\n",
      "                dtype=<class 'numpy.float64'>, encoding='utf-8',\n",
      "                input='content', lowercase=True, max_df=1.0, max_features=None,\n",
      "                min_df=1, ngram_range=(1, 1), norm='l2', preprocessor=None,\n",
      "                smooth_idf=True, stop_words=None, strip_accents=None,\n",
      "                sublinear_tf=False, token_pattern='(?u)\\\\b\\\\w\\\\w+\\\\b',\n",
      "                tokenizer=None, use_idf=True, vocabulary=None)\n"
     ]
    }
   ],
   "source": [
    "## setup bot\n",
    "\n",
    "## 1. path to FAQ db\n",
    "faq_path = [ ('1EuvcPe9WXSQTsmSqhq0LWJG4xz2ZRQ1FEdnQ_LQ-_Ks', 'FAQ responses!A1:G1000'), ('1EuvcPe9WXSQTsmSqhq0LWJG4xz2ZRQ1FEdnQ_LQ-_Ks', 'Classify_Phrases!A1:G1000')]\n",
    "faq_typ = zdata_source.zGSHEET_FAQ\n",
    "      \n",
    "## 2. create bot\n",
    "bot_app = ZBotLogicFlow()\n",
    "bot_app.loadFaqDbz(faq_path, faq_typ)\n",
    "\n",
    "## 3. load model\n",
    "bot_app.loadModel( zbot_logic.MODEL_COSINE_TFIDF, ZAPP_NAME)\n",
    "\n",
    "print( repr(bot_app.model.model) )"
   ]
  },
  {
   "cell_type": "code",
   "execution_count": 9,
   "metadata": {
    "scrolled": false
   },
   "outputs": [
    {
     "name": "stdout",
     "output_type": "stream",
     "text": [
      "Talk to me: hi there\n",
      "\u001b[32m>>>: \u001b[0m hello\n",
      "\n",
      "Talk to me: what is corona virus\n"
     ]
    },
    {
     "name": "stderr",
     "output_type": "stream",
     "text": [
      "INFOR   : 2020-04-21 20:51:58.891497 [\u001b[34mcosine.predict\u001b[0m] IN: 'what is corona virus'\n",
      "INFOR   : 2020-04-21 20:51:58.891497 [\u001b[34mcosine.predict\u001b[0m] IN.PREPROC: {'cleanup_and_lemmatize': {'remove_stopwordz': True, 'stop_wordz': ['i', 'me', 'my', 'myself', 'we', 'our', 'ours', 'ourselves', 'you', \"you're\", \"you've\", \"you'll\", \"you'd\", 'your', 'yours', 'yourself', 'yourselves', 'he', 'him', 'his', 'himself', 'she', \"she's\", 'her', 'hers', 'herself', 'it', \"it's\", 'its', 'itself', 'they', 'them', 'their', 'theirs', 'themselves', 'what', 'which', 'who', 'whom', 'this', 'that', \"that'll\", 'these', 'those', 'am', 'is', 'are', 'was', 'were', 'be', 'been', 'being', 'have', 'has', 'had', 'having', 'do', 'does', 'did', 'doing', 'a', 'an', 'the', 'and', 'but', 'if', 'or', 'because', 'as', 'until', 'while', 'of', 'at', 'by', 'for', 'with', 'about', 'against', 'between', 'into', 'through', 'during', 'before', 'after', 'above', 'below', 'to', 'from', 'up', 'down', 'in', 'out', 'on', 'off', 'over', 'under', 'again', 'further', 'then', 'once', 'here', 'there', 'when', 'where', 'why', 'how', 'all', 'any', 'both', 'each', 'few', 'more', 'most', 'other', 'some', 'such', 'no', 'nor', 'not', 'only', 'own', 'same', 'so', 'than', 'too', 'very', 's', 't', 'can', 'will', 'just', 'don', \"don't\", 'should', \"should've\", 'now', 'd', 'll', 'm', 'o', 're', 've', 'y', 'ain', 'aren', \"aren't\", 'couldn', \"couldn't\", 'didn', \"didn't\", 'doesn', \"doesn't\", 'hadn', \"hadn't\", 'hasn', \"hasn't\", 'haven', \"haven't\", 'isn', \"isn't\", 'ma', 'mightn', \"mightn't\", 'mustn', \"mustn't\", 'needn', \"needn't\", 'shan', \"shan't\", 'shouldn', \"shouldn't\", 'wasn', \"wasn't\", 'weren', \"weren't\", 'won', \"won't\", 'wouldn', \"wouldn't\", 'virus', 'covid19'], 'remove_numberz': True, 'lemmatized': True, 'unique': False}}\n",
      "INFOR   : 2020-04-21 20:51:58.892495 [\u001b[34mcosine.predict\u001b[0m] IN.CLEAN: 1 ['corona']\n",
      "INFOR   : 2020-04-21 20:51:58.894490 [\u001b[34mcosine.predict\u001b[0m] ANS: 7\n",
      "INFOR   : 2020-04-21 20:51:58.894490 [\u001b[34mcosine.predict\u001b[0m] idx = 7, resp= 1.0\n"
     ]
    },
    {
     "name": "stdout",
     "output_type": "stream",
     "text": [
      "\u001b[32m>>>: \u001b[0m <p>COVID-19 is a new strain of coronavirus that has not been previously identified in humans. It was first identified in Wuhan, Hubei Province, China</p>\n",
      "\n",
      "<p>There is much more to learn about how COVID-19 is spread, its severity, and other features associated with the virus; epidemiological and clinical investigations are ongoing.</p>\n",
      "\n",
      "Talk to me: how is it spread\n"
     ]
    },
    {
     "name": "stderr",
     "output_type": "stream",
     "text": [
      "INFOR   : 2020-04-21 20:52:07.323916 [\u001b[34mcosine.predict\u001b[0m] IN: 'how is it spread'\n",
      "INFOR   : 2020-04-21 20:52:07.323916 [\u001b[34mcosine.predict\u001b[0m] IN.PREPROC: {'cleanup_and_lemmatize': {'remove_stopwordz': True, 'stop_wordz': ['i', 'me', 'my', 'myself', 'we', 'our', 'ours', 'ourselves', 'you', \"you're\", \"you've\", \"you'll\", \"you'd\", 'your', 'yours', 'yourself', 'yourselves', 'he', 'him', 'his', 'himself', 'she', \"she's\", 'her', 'hers', 'herself', 'it', \"it's\", 'its', 'itself', 'they', 'them', 'their', 'theirs', 'themselves', 'what', 'which', 'who', 'whom', 'this', 'that', \"that'll\", 'these', 'those', 'am', 'is', 'are', 'was', 'were', 'be', 'been', 'being', 'have', 'has', 'had', 'having', 'do', 'does', 'did', 'doing', 'a', 'an', 'the', 'and', 'but', 'if', 'or', 'because', 'as', 'until', 'while', 'of', 'at', 'by', 'for', 'with', 'about', 'against', 'between', 'into', 'through', 'during', 'before', 'after', 'above', 'below', 'to', 'from', 'up', 'down', 'in', 'out', 'on', 'off', 'over', 'under', 'again', 'further', 'then', 'once', 'here', 'there', 'when', 'where', 'why', 'how', 'all', 'any', 'both', 'each', 'few', 'more', 'most', 'other', 'some', 'such', 'no', 'nor', 'not', 'only', 'own', 'same', 'so', 'than', 'too', 'very', 's', 't', 'can', 'will', 'just', 'don', \"don't\", 'should', \"should've\", 'now', 'd', 'll', 'm', 'o', 're', 've', 'y', 'ain', 'aren', \"aren't\", 'couldn', \"couldn't\", 'didn', \"didn't\", 'doesn', \"doesn't\", 'hadn', \"hadn't\", 'hasn', \"hasn't\", 'haven', \"haven't\", 'isn', \"isn't\", 'ma', 'mightn', \"mightn't\", 'mustn', \"mustn't\", 'needn', \"needn't\", 'shan', \"shan't\", 'shouldn', \"shouldn't\", 'wasn', \"wasn't\", 'weren', \"weren't\", 'won', \"won't\", 'wouldn', \"wouldn't\", 'virus', 'covid19'], 'remove_numberz': True, 'lemmatized': True, 'unique': False}}\n",
      "INFOR   : 2020-04-21 20:52:07.324909 [\u001b[34mcosine.predict\u001b[0m] IN.CLEAN: 1 ['spread']\n",
      "INFOR   : 2020-04-21 20:52:07.326874 [\u001b[34mcosine.predict\u001b[0m] ANS: 10\n",
      "INFOR   : 2020-04-21 20:52:07.326874 [\u001b[34mcosine.predict\u001b[0m] idx = 10, resp= 1.0\n"
     ]
    },
    {
     "name": "stdout",
     "output_type": "stream",
     "text": [
      "\u001b[32m>>>: \u001b[0m <p>COVID-19 virus spreads through contaminated droplets spread by coughing or sneezing, or by contact with contaminated hands, surfaces or objects.</p>\n",
      "\n",
      "<p>The time between when a person is exposed to the virus and when symptoms first appear is typically 5 to 6 days, although may range from 2 to 14 days. For this reason, people who might have been in contact with a confirmed case are being asked to self-isolate for 14 days.</p>\n",
      "\n",
      "Talk to me: who is most at risk\n"
     ]
    },
    {
     "name": "stderr",
     "output_type": "stream",
     "text": [
      "INFOR   : 2020-04-21 20:52:14.171268 [\u001b[34mcosine.predict\u001b[0m] IN: 'who is most at risk'\n",
      "INFOR   : 2020-04-21 20:52:14.171268 [\u001b[34mcosine.predict\u001b[0m] IN.PREPROC: {'cleanup_and_lemmatize': {'remove_stopwordz': True, 'stop_wordz': ['i', 'me', 'my', 'myself', 'we', 'our', 'ours', 'ourselves', 'you', \"you're\", \"you've\", \"you'll\", \"you'd\", 'your', 'yours', 'yourself', 'yourselves', 'he', 'him', 'his', 'himself', 'she', \"she's\", 'her', 'hers', 'herself', 'it', \"it's\", 'its', 'itself', 'they', 'them', 'their', 'theirs', 'themselves', 'what', 'which', 'who', 'whom', 'this', 'that', \"that'll\", 'these', 'those', 'am', 'is', 'are', 'was', 'were', 'be', 'been', 'being', 'have', 'has', 'had', 'having', 'do', 'does', 'did', 'doing', 'a', 'an', 'the', 'and', 'but', 'if', 'or', 'because', 'as', 'until', 'while', 'of', 'at', 'by', 'for', 'with', 'about', 'against', 'between', 'into', 'through', 'during', 'before', 'after', 'above', 'below', 'to', 'from', 'up', 'down', 'in', 'out', 'on', 'off', 'over', 'under', 'again', 'further', 'then', 'once', 'here', 'there', 'when', 'where', 'why', 'how', 'all', 'any', 'both', 'each', 'few', 'more', 'most', 'other', 'some', 'such', 'no', 'nor', 'not', 'only', 'own', 'same', 'so', 'than', 'too', 'very', 's', 't', 'can', 'will', 'just', 'don', \"don't\", 'should', \"should've\", 'now', 'd', 'll', 'm', 'o', 're', 've', 'y', 'ain', 'aren', \"aren't\", 'couldn', \"couldn't\", 'didn', \"didn't\", 'doesn', \"doesn't\", 'hadn', \"hadn't\", 'hasn', \"hasn't\", 'haven', \"haven't\", 'isn', \"isn't\", 'ma', 'mightn', \"mightn't\", 'mustn', \"mustn't\", 'needn', \"needn't\", 'shan', \"shan't\", 'shouldn', \"shouldn't\", 'wasn', \"wasn't\", 'weren', \"weren't\", 'won', \"won't\", 'wouldn', \"wouldn't\", 'virus', 'covid19'], 'remove_numberz': True, 'lemmatized': True, 'unique': False}}\n",
      "INFOR   : 2020-04-21 20:52:14.172237 [\u001b[34mcosine.predict\u001b[0m] IN.CLEAN: 1 ['risk']\n",
      "INFOR   : 2020-04-21 20:52:14.174265 [\u001b[34mcosine.predict\u001b[0m] ANS: 30\n",
      "INFOR   : 2020-04-21 20:52:14.174265 [\u001b[34mcosine.predict\u001b[0m] idx = 30, resp= 1.0\n"
     ]
    },
    {
     "name": "stdout",
     "output_type": "stream",
     "text": [
      "\u001b[32m>>>: \u001b[0m The people most at risk of getting COVID-19 coronavirus infections are those who have:\n",
      "<ul><li> Recently returned from overseas</li>\n",
      "<li> Been in close contact with someone who has been diagnosed with COVID-19.</li>\n",
      "<li> People with compromised immune systems including cancer treatment </li>\n",
      "<li> People with diagnosed chronic medical conditions including chronic lung disease or moderate to severe asthma , heart disease with complications </li>\n",
      "<li> Elderly people: Older adults and people of any age who have serious underlying medical conditions might be at higher risk for severe illness from COVID-19. </li>\n",
      "</ul>\n",
      "\n",
      "<p><b>Children: </b>At this stage the risk to children and babies, and the role children play in the transmission of COVID-19, is not clear. However, there has so far been a low rate of confirmed COVID-19 cases among children, relative to the broader population. It is important to remember that even healthy young adults can have severe disease caused by COVID-19.</p>\n",
      "\n",
      "<p><b>Pregnancy:</b> People who are pregnant should be monitored since they are known to be at risk with severe viral illness, however, to date data on COVID-19 has not shown increased risk</p>\n",
      "\n",
      "Talk to me: thanks. bye\n",
      "\u001b[32m>>>: \u001b[0m happy to be of assistance\n",
      "\n",
      "Talk to me: bye\n",
      "\u001b[32m>>>: \u001b[0m glad to be of help. talk again soon\n",
      "\n"
     ]
    }
   ],
   "source": [
    " ## 4. Let's chat\n",
    "while( 1 ):\n",
    "    user_input = input( colored(\"Talk to me: \", \"yellow\") )\n",
    "    prompt = colored( \">>>: \", \"green\") \n",
    "\n",
    "    response, rcode = bot_app.getResponse( user_input ) \n",
    "\n",
    "    print( \"{} {}\\n\".format(prompt, \"I don't understand. Try that again\" if response is None else response )  ) \n",
    "\n",
    "    if ( rcode == -99) :\n",
    "        break \n"
   ]
  },
  {
   "cell_type": "code",
   "execution_count": null,
   "metadata": {},
   "outputs": [],
   "source": []
  }
 ],
 "metadata": {
  "kernelspec": {
   "display_name": "Python 3",
   "language": "python",
   "name": "python3"
  },
  "language_info": {
   "codemirror_mode": {
    "name": "ipython",
    "version": 3
   },
   "file_extension": ".py",
   "mimetype": "text/x-python",
   "name": "python",
   "nbconvert_exporter": "python",
   "pygments_lexer": "ipython3",
   "version": "3.7.4"
  }
 },
 "nbformat": 4,
 "nbformat_minor": 2
}
