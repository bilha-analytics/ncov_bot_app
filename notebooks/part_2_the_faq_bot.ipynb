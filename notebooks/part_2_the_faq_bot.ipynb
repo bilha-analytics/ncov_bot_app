{
 "cells": [
  {
   "cell_type": "markdown",
   "metadata": {},
   "source": [
    "# COVID 19 FAQ Bot\n",
    "- User input gets classified into some category, upon which the appropriate answer is matched\n",
    "- Data Sources: WHO, CDC, JHU, MoH KE\n",
    "\n",
    "\n",
    "**The Data**\n",
    "- Pulling data from known disease/pandemic authorities such as CDC and WHO\n",
    "\n",
    "- Also getting KE national government content. These are static data; knowledge already in place. TODO: a channel for news updates \n",
    "\n",
    "- Data is maintained in a Gsheet and can make updates/additions/etc from there\n",
    "\n",
    "- Clean and classify the above data to have two datasets\n",
    "    - FAQ_db: This is the knowledge base. One to one mapping of class categories and response paragraphs. Has two main fields: class_category, response_p. Additional fields: src, src_link \n",
    "    - Phrases_db: This is the training set on questions/input that users may present to the bot. Has two main fields: input_phrase, class_category \n",
    "    \n",
    "**Approach**\n",
    "- Retrieval based chat bot. \n"
   ]
  },
  {
   "cell_type": "code",
   "execution_count": 1,
   "metadata": {},
   "outputs": [],
   "source": [
    "%store -r __jhu_map"
   ]
  },
  {
   "cell_type": "raw",
   "metadata": {},
   "source": [
    "<script>\n",
    "code_show=true; \n",
    "function code_toggle() {\n",
    " if (code_show){\n",
    " $('div.input').hide();\n",
    " } else {\n",
    " $('div.input').show();\n",
    " }\n",
    " code_show = !code_show\n",
    "} \n",
    "$( document ).ready(code_toggle);\n",
    "</script>\n",
    "<a href=\"javascript:code_toggle()\">Show/Hide Code</a>."
   ]
  },
  {
   "cell_type": "markdown",
   "metadata": {},
   "source": [
    "**Here's the JHU tracker**\n",
    "[Link to map FAQ](https://coronavirus.jhu.edu/map-faq)"
   ]
  },
  {
   "cell_type": "code",
   "execution_count": 2,
   "metadata": {},
   "outputs": [
    {
     "data": {
      "text/html": [
       "\n",
       "        <iframe\n",
       "            width=\"650\"\n",
       "            height=\"400\"\n",
       "            src=\"//arcgis.com/apps/Embed/index.html?webmap=14aa9e5660cf42b5b4b546dec6ceec7c&extent=77.3846,11.535,163.5174,52.8632&center=28.8189834,-2.5117154&zoom=true&previewImage=false&scale=true&disable_scroll=true&theme=light?frameborder=0&scrolling=no&marginheight=0&marginwidth=0&title=2019-nCoV\"\n",
       "            frameborder=\"0\"\n",
       "            allowfullscreen\n",
       "        ></iframe>\n",
       "        "
      ],
      "text/plain": [
       "<IPython.lib.display.IFrame at 0x23096f23bc8>"
      ]
     },
     "execution_count": 2,
     "metadata": {},
     "output_type": "execute_result"
    }
   ],
   "source": [
    "__jhu_map"
   ]
  },
  {
   "cell_type": "code",
   "execution_count": 3,
   "metadata": {},
   "outputs": [],
   "source": [
    "%run utilz_includez.ipynb"
   ]
  },
  {
   "cell_type": "code",
   "execution_count": 4,
   "metadata": {},
   "outputs": [],
   "source": [
    "import sys\n",
    "sys.path.append('..')\n",
    "sys.path.append('../envbin')\n",
    "import zdata_source\n",
    "import zbot_logic\n",
    "from zbot_logic import ZBotLogicFlow\n",
    "\n",
    "\n",
    "import random\n",
    "\n",
    "logging.getLogger('zmoi').disabled = True\n",
    "\n",
    "ZAPP_NAME = 'ncov19_tfidf_faq'"
   ]
  },
  {
   "cell_type": "markdown",
   "metadata": {},
   "source": [
    "# Interact with trained model\n",
    "- RECALL:Using TF-IDF Cosine Similarity. "
   ]
  },
  {
   "cell_type": "code",
   "execution_count": 5,
   "metadata": {},
   "outputs": [
    {
     "name": "stdout",
     "output_type": "stream",
     "text": [
      "TfidfVectorizer(analyzer='word', binary=False, decode_error='strict',\n",
      "                dtype=<class 'numpy.float64'>, encoding='utf-8',\n",
      "                input='content', lowercase=True, max_df=1.0, max_features=None,\n",
      "                min_df=1, ngram_range=(1, 1), norm='l2', preprocessor=None,\n",
      "                smooth_idf=True, stop_words=None, strip_accents=None,\n",
      "                sublinear_tf=False, token_pattern='(?u)\\\\b\\\\w\\\\w+\\\\b',\n",
      "                tokenizer=None, use_idf=True, vocabulary=None)\n"
     ]
    }
   ],
   "source": [
    "## setup bot\n",
    "\n",
    "## 1. path to FAQ db\n",
    "faq_path = [ ('1EuvcPe9WXSQTsmSqhq0LWJG4xz2ZRQ1FEdnQ_LQ-_Ks', 'FAQ responses!A1:G1000'), ('1EuvcPe9WXSQTsmSqhq0LWJG4xz2ZRQ1FEdnQ_LQ-_Ks', 'Classify_Phrases!A1:G1000')]\n",
    "faq_typ = zdata_source.zGSHEET_FAQ\n",
    "      \n",
    "## 2. create bot\n",
    "bot_app = ZBotLogicFlow()\n",
    "bot_app.loadFaqDbz(faq_path, faq_typ)\n",
    "\n",
    "## 3. load model\n",
    "bot_app.loadModel( zbot_logic.MODEL_COSINE_TFIDF, ZAPP_NAME)\n",
    "\n",
    "print( repr(bot_app.model.model) )"
   ]
  },
  {
   "cell_type": "code",
   "execution_count": null,
   "metadata": {
    "scrolled": false
   },
   "outputs": [
    {
     "name": "stdout",
     "output_type": "stream",
     "text": [
      "Talk to me: is vipi bro\n",
      "\u001b[32m>>>: \u001b[0m what can i do for you\n",
      "\n",
      "Talk to me: what is covid19\n",
      "\u001b[32m>>>: \u001b[0m <p>COVID-19 is a new strain of coronavirus that has not been previously identified in humans. It was first identified in Wuhan, Hubei Province, China</p>\n",
      "\n",
      "<p>There is much more to learn about how COVID-19 is spread, its severity, and other features associated with the virus; epidemiological and clinical investigations are ongoing.</p>\n",
      "\n",
      "Talk to me: how is it spread\n",
      "\u001b[32m>>>: \u001b[0m <p>COVID-19 virus spreads through contaminated droplets spread by coughing or sneezing, or by contact with contaminated hands, surfaces or objects.</p>\n",
      "\n",
      "<p>The time between when a person is exposed to the virus and when symptoms first appear is typically 5 to 6 days, although may range from 2 to 14 days. For this reason, people who might have been in contact with a confirmed case are being asked to self-isolate for 14 days.</p>\n",
      "\n",
      "Talk to me: can i get infected by my pet \n",
      "\u001b[32m>>>: \u001b[0m Not everyone needs to be tested for COVID-19. For information about testing, follow the Ministry of Health updates and directives\n",
      "\n",
      "Talk to me: can my pet get sick from me\n",
      "\u001b[32m>>>: \u001b[0m While COVID-19 seems to have emerged from an animal source, it is now mainly spreading from person-to-person. There is no reason to think that any animals including pets might be a source of infection with this new virus.Talk to your veterinarian about the best ways to care for your pet.\n",
      "\n"
     ]
    }
   ],
   "source": [
    " ## 4. Let's chat\n",
    "while( 1 ):\n",
    "    user_input = input( colored(\"Talk to me: \", \"yellow\") )\n",
    "    prompt = colored( \">>>: \", \"green\") \n",
    "\n",
    "    response, rcode, pred_cat = bot_app.getResponse( user_input ) \n",
    "\n",
    "    print( \"{} {}\\n\".format(prompt, \"I don't understand. Try that again\" if response is None else response )  ) \n",
    "\n",
    "    if ( rcode == -99) :\n",
    "        break \n"
   ]
  },
  {
   "cell_type": "code",
   "execution_count": null,
   "metadata": {},
   "outputs": [],
   "source": []
  }
 ],
 "metadata": {
  "kernelspec": {
   "display_name": "Python 3",
   "language": "python",
   "name": "python3"
  },
  "language_info": {
   "codemirror_mode": {
    "name": "ipython",
    "version": 3
   },
   "file_extension": ".py",
   "mimetype": "text/x-python",
   "name": "python",
   "nbconvert_exporter": "python",
   "pygments_lexer": "ipython3",
   "version": "3.7.4"
  }
 },
 "nbformat": 4,
 "nbformat_minor": 2
}
