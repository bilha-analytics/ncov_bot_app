{
 "cells": [
  {
   "cell_type": "markdown",
   "metadata": {},
   "source": [
    "# COVID 19 FAQ \n",
    "- Question-Answer pairs for given categories\n",
    "- User input gets classified into some category, upon which the appropriate answer is matched\n",
    "- Data Sources: WHO, CDC, JHU, MoH KE\n",
    "\n",
    "\n",
    "\n",
    "**The Data**\n",
    "- Pulling data from known disease/pandemic authorities such as CDC and WHO\n",
    "\n",
    "- Also getting KE national government content. These are static data; knowledge already in place. TODO: a channel for news updates \n",
    "\n",
    "- Data is maintained in a Gsheet and can make updates/additions/etc from there\n",
    "\n",
    "- Clean and classify the above data to have two datasets\n",
    "    - FAQ_db: This is the knowledge base. One to one mapping of class categories and response paragraphs. Has two main fields: class_category, response_p. Additional fields: src, src_link \n",
    "    - Phrases_db: This is the training set on questions/input that users may present to the bot. Has two main fields: input_phrase, class_category \n",
    "    \n",
    "**Approach**\n",
    "- Retrieval based chat bot. \n"
   ]
  },
  {
   "cell_type": "code",
   "execution_count": 1,
   "metadata": {},
   "outputs": [],
   "source": [
    "%store -r __jhu_map"
   ]
  },
  {
   "cell_type": "raw",
   "metadata": {},
   "source": [
    "<script>\n",
    "code_show=true; \n",
    "function code_toggle() {\n",
    " if (code_show){\n",
    " $('div.input').hide();\n",
    " } else {\n",
    " $('div.input').show();\n",
    " }\n",
    " code_show = !code_show\n",
    "} \n",
    "$( document ).ready(code_toggle);\n",
    "</script>\n",
    "<a href=\"javascript:code_toggle()\">Show/Hide Code</a>."
   ]
  },
  {
   "cell_type": "markdown",
   "metadata": {},
   "source": [
    "**Here's the JHU tracker**\n",
    "[Link to map FAQ](https://coronavirus.jhu.edu/map-faq)"
   ]
  },
  {
   "cell_type": "code",
   "execution_count": 2,
   "metadata": {},
   "outputs": [
    {
     "data": {
      "text/html": [
       "\n",
       "        <iframe\n",
       "            width=\"650\"\n",
       "            height=\"400\"\n",
       "            src=\"//arcgis.com/apps/Embed/index.html?webmap=14aa9e5660cf42b5b4b546dec6ceec7c&extent=77.3846,11.535,163.5174,52.8632&center=28.8189834,-2.5117154&zoom=true&previewImage=false&scale=true&disable_scroll=true&theme=light?frameborder=0&scrolling=no&marginheight=0&marginwidth=0&title=2019-nCoV\"\n",
       "            frameborder=\"0\"\n",
       "            allowfullscreen\n",
       "        ></iframe>\n",
       "        "
      ],
      "text/plain": [
       "<IPython.lib.display.IFrame at 0x1f66ef3aa88>"
      ]
     },
     "execution_count": 2,
     "metadata": {},
     "output_type": "execute_result"
    }
   ],
   "source": [
    "__jhu_map"
   ]
  },
  {
   "cell_type": "code",
   "execution_count": 3,
   "metadata": {},
   "outputs": [],
   "source": [
    "%run utilz_includez.ipynb"
   ]
  },
  {
   "cell_type": "code",
   "execution_count": 4,
   "metadata": {},
   "outputs": [],
   "source": [
    "import sys\n",
    "sys.path.append('..')\n",
    "sys.path.append('../envbin')\n",
    "import zdataset, zdata_source\n",
    "from zdataset import ZGsheetFaqDataSet\n",
    "from zmodel_cosine_similarity import ZCosineSimilarity\n",
    "\n",
    "import random\n",
    "\n",
    "\n",
    "logging.getLogger('zmoi').disabled = True\n",
    "\n",
    "ZAPP_NAME = 'ncov19_tfidf_faq'"
   ]
  },
  {
   "cell_type": "markdown",
   "metadata": {},
   "source": [
    "# Train Model\n",
    "- Using TF-IDF Cosine Similarity. \n",
    "\n",
    "    - Easier to deploy on some cloud services than an MLP NN. \n",
    "    - FAQ data seems straightforward enough.\n",
    "    - This model did well during exploration "
   ]
  },
  {
   "cell_type": "markdown",
   "metadata": {},
   "source": [
    "## 1. Load and clean data"
   ]
  },
  {
   "cell_type": "code",
   "execution_count": 5,
   "metadata": {},
   "outputs": [],
   "source": [
    "### --- Dset HELPERS ---\n",
    "def doFreqDist( list_text ):\n",
    "    fq = nltk.FreqDist( list_text )\n",
    "    print( \"FreqDist of {} tokens.\".format( fq.N() ) )\n",
    "    # print( \"Top 10 common tokens: \\n{}\".format( fq.most_common(10) ) )\n",
    "    # plot most common\n",
    "    fq.plot( 15) \n",
    "    plt.show()\n",
    "    return fq\n",
    "\n",
    "def printFAQ(dset=None, is_cleaned=False):\n",
    "    if dset is not None:\n",
    "        printHeadline('FAQ', 'Cleaned Dataset' if is_cleaned else 'Information on the FAQ dset')\n",
    "        print( f\"# Classes: {dset.getNumberClasses() }\" )\n",
    "        print( f\"# Size training set: { len(dset.clean_data) if is_cleaned else len(dset.data) }\" )    \n",
    "        print( f\"Vocab Size: { len(dset.getVocab()) }\" )\n",
    "        print( f\"Lexical Richness: { len(dset.getVocab()) / len(dset.getWords()) }\" )\n",
    "        print( f\"Threshold for N-gram Vs Seq: {dset.thresholdRatio() } <<< do Seq iff > 1500\" )    \n",
    "        print(\"-------\")\n",
    "        print( f\"Example: Source phrase: {dset.data[0]}\" )\n",
    "        print( f\"Example: Training phrase: {dset.x_index[0]}\" )\n",
    "        print( f\"Example: Associated class: {dset.y_labelz[0]}\" )\n",
    "        print(\"\")\n",
    "        x = random.randint(0, len(dset.x_index)-1 )\n",
    "        print( f\"Example: Source phrase: {dset.data[x]}\" )\n",
    "        print( f\"Example: Training phrase: {dset.x_index[x]}\" )\n",
    "        print( f\"Example: Associated class: {dset.y_labelz[x]}\" )\n",
    "        print(\"-------\")\n",
    "        doFreqDist( dset.getWords() )\n"
   ]
  },
  {
   "cell_type": "code",
   "execution_count": 6,
   "metadata": {},
   "outputs": [],
   "source": [
    "## 1. path to FAQ db\n",
    "faq_path = [ ('1EuvcPe9WXSQTsmSqhq0LWJG4xz2ZRQ1FEdnQ_LQ-_Ks', 'FAQ responses!A1:G1000'), ('1EuvcPe9WXSQTsmSqhq0LWJG4xz2ZRQ1FEdnQ_LQ-_Ks', 'Classify_Phrases!A1:G1000')]\n",
    "faq_typ = zdata_source.zGSHEET_FAQ      \n",
    "\n",
    "## 2. create dset\n",
    "dset = ZGsheetFaqDataSet()\n",
    "\n",
    "## 3.read dataset\n",
    "def readFAQdb(faq_path=faq_path, faq_typ=faq_typ):\n",
    "    printHeadline('readFAQdb', 'Fetching FAQ Gsheet into responses and training_set')\n",
    "    \n",
    "    dset.initFromResource( faq_path, faq_typ )\n",
    "    \n",
    "    printFAQ(dset)\n",
    "    "
   ]
  },
  {
   "cell_type": "code",
   "execution_count": 7,
   "metadata": {},
   "outputs": [
    {
     "name": "stdout",
     "output_type": "stream",
     "text": [
      "\n",
      "------ 1. READFAQDB : Fetching FAQ Gsheet into responses and training_set ------\n",
      "\n",
      "------ 2. FAQ : Information on the FAQ dset ------\n",
      "# Classes: 53\n",
      "# Size training set: 163\n",
      "Vocab Size: 374\n",
      "Lexical Richness: 0.27786032689450224\n",
      "Threshold for N-gram Vs Seq: 19.073223259152908 <<< do Seq iff > 1500\n",
      "-------\n",
      "Example: Source phrase: what is a pandemic?\n",
      "Example: Training phrase: what is a pandemic?\n",
      "Example: Associated class: pandemic_define\n",
      "\n",
      "Example: Source phrase: should i make my own hand sanitizer\n",
      "Example: Training phrase: should i make my own hand sanitizer\n",
      "Example: Associated class: sanitizer_diy\n",
      "-------\n",
      "FreqDist of 1346 tokens.\n"
     ]
    },
    {
     "data": {
      "image/png": "[encoded data removed]",
      "text/plain": [
       "<Figure size 432x288 with 1 Axes>"
      ]
     },
     "metadata": {
      "needs_background": "light"
     },
     "output_type": "display_data"
    }
   ],
   "source": [
    "readFAQdb()"
   ]
  },
  {
   "cell_type": "code",
   "execution_count": 8,
   "metadata": {},
   "outputs": [],
   "source": [
    "## create TFIDF Cosine Similarity model \n",
    "## TFIDF encoded data \n",
    "\n",
    "model = ZCosineSimilarity( ZAPP_NAME )\n",
    "\n",
    "def resetAndTrainModel( n_gramz=(1,1) , log=True):\n",
    "    if log:\n",
    "        printHeadline('resetAndTrain', f\"Updating Model @ ngramz={n_gramz}\" ) \n",
    "    dset.encodeTrain(enc_type=zdataset.ZENC_TFIDF, ngramz=n_gramz )     \n",
    "    model.build( dset.context , dset.encoded_matrix, dset.ylabelzAsInts(), dset.preprocessor)\n",
    "#     print(\"TFIDF: {}\".format( dset.context))\n",
    "    "
   ]
  },
  {
   "cell_type": "code",
   "execution_count": 9,
   "metadata": {},
   "outputs": [],
   "source": [
    "## Training Helpers\n",
    "val_txt = ['Is corana deadly', \n",
    "           'What is corona', \n",
    "           \"Should my pet get tested\", \n",
    "           \"Will mosquito bite infect me\", \n",
    "          \"Can I visit my elderly parents\", \n",
    "          \"Is there a vaccine\"]\n",
    "\n",
    "val_ylabz = ['covid19_define',\n",
    "             'covid19_define',\n",
    "            'pets_infection', \n",
    "            'covid19_spread_insects',\n",
    "            'covid19_at_risk',\n",
    "            'covid19_cure']\n",
    "\n",
    "val_ylabz_int = dset.ylabelzAsInts(val_ylabz) \n",
    "\n",
    "\n",
    "def validateCosineModel(i=1, log=True):\n",
    "    if log:\n",
    "        print(\"\\n{0} {1}. PREPROCESSING @ Validation Data {0}\".format(\"-\"*6, i))\n",
    "    cleaned_txt = dset.preprocessPredict( val_txt)\n",
    "    \n",
    "    if log:\n",
    "        for itx, otx in zip(val_txt, cleaned_txt):\n",
    "            print(\"CLEANED: {} ===> {}\".format(itx, otx))\n",
    "        \n",
    "    \n",
    "    if log:\n",
    "        print(\"\\n{0} {1}. PREDICT @ Validation Data {0}\".format(\"-\"*6, i+1 ))\n",
    "    acc, predicted_yz = model.validate( cleaned_txt, val_ylabz_int)\n",
    "    \n",
    "    for idx, txt, y in  zip( predicted_yz, val_txt, val_ylabz):\n",
    "        cat,resp =  dset.getPredictedAtIndex( idx )\n",
    "        if log:\n",
    "            print(\"PREDICTED: {}:{} ===> {} for '{}' \".format(idx, y, cat, txt))\n",
    "    #     print(\"\\t{}\\n\".format(resp) )\n",
    "    \n",
    "    if log:\n",
    "        print(\">>> Predicted Accuracy: {} \\n{}\".format( acc, predicted_yz) ) \n",
    "    return acc\n",
    "    "
   ]
  },
  {
   "cell_type": "markdown",
   "metadata": {},
   "source": [
    "## 2. Train model using cleaned data"
   ]
  },
  {
   "cell_type": "code",
   "execution_count": 10,
   "metadata": {},
   "outputs": [],
   "source": [
    "## Clean the data\n",
    "updated_stopz = dset.getStopWords( ['virus', 'covid19', ]) ##Keeping covid and corona for @define\n",
    "# print(\"STOPZ: \", \", \".join(updated_stopz) ) \n"
   ]
  },
  {
   "cell_type": "code",
   "execution_count": 11,
   "metadata": {},
   "outputs": [
    {
     "name": "stdout",
     "output_type": "stream",
     "text": [
      "\n",
      "------ 3. CLEANING : WITH STOPZ ------\n",
      "\n",
      "------ 4. FAQ : Cleaned Dataset ------\n",
      "# Classes: 53\n",
      "# Size training set: 163\n",
      "Vocab Size: 262\n",
      "Lexical Richness: 0.49809885931558934\n",
      "Threshold for N-gram Vs Seq: 50.22495274102079 <<< do Seq iff > 1500\n",
      "-------\n",
      "Example: Source phrase: what is a pandemic?\n",
      "Example: Training phrase: pandemic\n",
      "Example: Associated class: pandemic_define\n",
      "\n",
      "Example: Source phrase: can food infect me\n",
      "Example: Training phrase: food infect\n",
      "Example: Associated class: covid19_spread_foods\n",
      "-------\n",
      "FreqDist of 526 tokens.\n"
     ]
    },
    {
     "data": {
      "image/png": "[encoded data removed]",
      "text/plain": [
       "<Figure size 432x288 with 1 Axes>"
      ]
     },
     "metadata": {
      "needs_background": "light"
     },
     "output_type": "display_data"
    }
   ],
   "source": [
    "printHeadline('cleaning', 'WITH STOPZ')\n",
    "clean_paramz = {\n",
    "        'remove_stopwordz' : True,\n",
    "        'stop_wordz' : updated_stopz, \n",
    "        'remove_numberz' : True, \n",
    "        'lemmatized' : True, \n",
    "    }\n",
    "\n",
    "\n",
    "dset.preprocess( **clean_paramz )     \n",
    "\n",
    "printFAQ(dset, is_cleaned=True)"
   ]
  },
  {
   "cell_type": "code",
   "execution_count": 12,
   "metadata": {},
   "outputs": [
    {
     "name": "stdout",
     "output_type": "stream",
     "text": [
      "\n",
      "------ 5. RESETANDTRAIN : Updating Model @ ngramz=(1, 1) ------\n"
     ]
    }
   ],
   "source": [
    "resetAndTrainModel()\n",
    "base_acc = validateCosineModel(log=False)"
   ]
  },
  {
   "cell_type": "code",
   "execution_count": 13,
   "metadata": {},
   "outputs": [
    {
     "name": "stdout",
     "output_type": "stream",
     "text": [
      "\n",
      "------ 6. CLEANING : WITHOUT STOPZ ------\n",
      "\n",
      "------ 7. FAQ : Cleaned Dataset ------\n",
      "# Classes: 53\n",
      "# Size training set: 163\n",
      "Vocab Size: 262\n",
      "Lexical Richness: 0.49809885931558934\n",
      "Threshold for N-gram Vs Seq: 50.22495274102079 <<< do Seq iff > 1500\n",
      "-------\n",
      "Example: Source phrase: what is a pandemic?\n",
      "Example: Training phrase: pandemic\n",
      "Example: Associated class: pandemic_define\n",
      "\n",
      "Example: Source phrase: Can a person in quanrantine spread the virus\n",
      "Example: Training phrase: person quanrantine spread\n",
      "Example: Associated class: covid19_quarantine\n",
      "-------\n",
      "FreqDist of 526 tokens.\n"
     ]
    },
    {
     "data": {
      "image/png": "[encoded data removed]",
      "text/plain": [
       "<Figure size 432x288 with 1 Axes>"
      ]
     },
     "metadata": {
      "needs_background": "light"
     },
     "output_type": "display_data"
    }
   ],
   "source": [
    "printHeadline('cleaning', 'WITHOUT STOPZ')\n",
    "\n",
    "printFAQ(dset, is_cleaned=True)"
   ]
  },
  {
   "cell_type": "code",
   "execution_count": 14,
   "metadata": {},
   "outputs": [
    {
     "name": "stdout",
     "output_type": "stream",
     "text": [
      "\n",
      "------ 8. RESETANDTRAIN : Updating Model @ ngramz=(1, 1) ------\n"
     ]
    }
   ],
   "source": [
    "resetAndTrainModel()\n",
    "base_acc = validateCosineModel(log=False)"
   ]
  },
  {
   "cell_type": "markdown",
   "metadata": {},
   "source": [
    "## 3. Refine Model @ N-gram range"
   ]
  },
  {
   "cell_type": "code",
   "execution_count": 15,
   "metadata": {},
   "outputs": [],
   "source": [
    "\n",
    "ZMODEL_ACC = {} \n",
    "\n",
    "ngramz = [ (1, 1), (1,2), (1,3), (2,2), (2,3), (3,3)]\n",
    "\n",
    "clean_paramz_without_stopz = {\n",
    "        'remove_stopwordz' : False,\n",
    "        'remove_numberz' : True, \n",
    "        'lemmatized' : True, \n",
    "    }\n",
    "clean_paramz_asis = {\n",
    "        'remove_stopwordz' : False,\n",
    "        'remove_numberz' : False, \n",
    "        'lemmatized' : False, \n",
    "    }\n",
    "\n",
    "config = {\n",
    "    'lemma-stopz' : clean_paramz,\n",
    "    'lemma-nostopz' : clean_paramz_without_stopz, \n",
    "    'stopz-only' : {**clean_paramz, **{'lemmatized':False } } , \n",
    "    'as-is' : clean_paramz_asis \n",
    "} "
   ]
  },
  {
   "cell_type": "code",
   "execution_count": 16,
   "metadata": {},
   "outputs": [],
   "source": [
    "## try different \n",
    "for k, conf in config.items():\n",
    "    dset.preprocess( **conf )\n",
    "    for ng in ngramz:\n",
    "        resetAndTrainModel(n_gramz=ng, log=False)\n",
    "        acc = validateCosineModel(log=False)\n",
    "        ZMODEL_ACC[ f'{k}_{ng}gram'] = acc"
   ]
  },
  {
   "cell_type": "code",
   "execution_count": 17,
   "metadata": {},
   "outputs": [
    {
     "data": {
      "image/png": "[encoded data removed]",
      "text/plain": [
       "<Figure size 432x288 with 1 Axes>"
      ]
     },
     "metadata": {
      "needs_background": "light"
     },
     "output_type": "display_data"
    }
   ],
   "source": [
    "## Plot them \n",
    "def plotAcc(x_srcz, y_valz, huez, ttitle='Cosine Similarity'):\n",
    "    g = sns.barplot( x=x_srcz, y=y_valz, hue=huez, dodge=False)\n",
    "    g.set_title(\"Accuracy @ {} {} Cofigz\".format(len(x_srcz), ttitle))\n",
    "    g.set_xticklabels(g.get_xticklabels(), rotation=90, horizontalalignment='center')\n",
    "    plt.legend(loc='upper right')\n",
    "    plt.show()\n",
    "\n",
    "plotAcc( list(ZMODEL_ACC.keys()), list(ZMODEL_ACC.values()), [ x.split('_')[0] for x in ZMODEL_ACC.keys() ] )"
   ]
  },
  {
   "cell_type": "markdown",
   "metadata": {},
   "source": [
    "## 4. Save Model for Reuse"
   ]
  },
  {
   "cell_type": "code",
   "execution_count": 18,
   "metadata": {},
   "outputs": [
    {
     "data": {
      "text/plain": [
       "1.0"
      ]
     },
     "execution_count": 18,
     "metadata": {},
     "output_type": "execute_result"
    },
    {
     "name": "stdout",
     "output_type": "stream",
     "text": [
      "<class 'zmodel_cosine_similarity.ZCosineSimilarity'> ncov19_tfidf_faq with model file 'ncov19_tfidf_faq.zmd'\n"
     ]
    }
   ],
   "source": [
    "## 1. Run with choice COnfig\n",
    "choice_conf = {\n",
    "        'remove_stopwordz' : True,\n",
    "        'stop_wordz' : updated_stopz, \n",
    "        'remove_numberz' : True, \n",
    "        'lemmatized' : True, \n",
    "    }\n",
    "\n",
    "dset.preprocess( **choice_conf )\n",
    "resetAndTrainModel(n_gramz=(1,1), log=False)\n",
    "validateCosineModel(log=False)\n",
    "print(model)"
   ]
  },
  {
   "cell_type": "code",
   "execution_count": 19,
   "metadata": {},
   "outputs": [],
   "source": [
    "## 2. Save to file\n",
    "model.dumpSave( ) "
   ]
  },
  {
   "cell_type": "code",
   "execution_count": 22,
   "metadata": {},
   "outputs": [
    {
     "name": "stdout",
     "output_type": "stream",
     "text": [
      "Target: [34, 34, 52, 38, 28, 7]\n",
      "Predicte:[34 34 52 38 28  7]\n"
     ]
    }
   ],
   "source": [
    "acc, pred_y = model.validate( dset.preprocessPredict( val_txt), val_ylabz_int)\n",
    "print(f\"Target: {val_ylabz_int}\\nPredicted:{pred_y}\")"
   ]
  },
  {
   "cell_type": "code",
   "execution_count": 47,
   "metadata": {},
   "outputs": [],
   "source": [
    "from sklearn import metrics\n",
    "from sklearn.metrics import accuracy_score, confusion_matrix, classification_report"
   ]
  },
  {
   "cell_type": "code",
   "execution_count": 25,
   "metadata": {},
   "outputs": [
    {
     "name": "stdout",
     "output_type": "stream",
     "text": [
      "Accuracy Score: 1.0\n",
      "Confusion Matrix: \n",
      " [[1 0 0 0 0]\n",
      " [0 1 0 0 0]\n",
      " [0 0 2 0 0]\n",
      " [0 0 0 1 0]\n",
      " [0 0 0 0 1]]\n"
     ]
    }
   ],
   "source": [
    "print( f\"Accuracy Score: { accuracy_score(val_ylabz_int, pred_y)}\\n\")\n",
    "print( f\"Classification Report: \\n{ classification_report(val_ylabz_int, pred_y)}\\n\")\n",
    "print( f\"Confusion Matrix: \\n { confusion_matrix(val_ylabz_int, pred_y)}\")"
   ]
  },
  {
   "cell_type": "markdown",
   "metadata": {},
   "source": [
    "### 2. Ditto @ NaiveBayes"
   ]
  },
  {
   "cell_type": "code",
   "execution_count": 51,
   "metadata": {},
   "outputs": [
    {
     "data": {
      "text/plain": [
       "MultinomialNB(alpha=1.0, class_prior=None, fit_prior=True)"
      ]
     },
     "execution_count": 51,
     "metadata": {},
     "output_type": "execute_result"
    },
    {
     "name": "stdout",
     "output_type": "stream",
     "text": [
      "Target: [34, 34, 52, 38, 28, 7]\n",
      "Predicted:[34, 34, 52, 52, 28, 23]\n",
      "\n",
      "Accuracy Score: 0.6666666666666666\n",
      "\n",
      "Classification Report: \n",
      "              precision    recall  f1-score   support\n",
      "\n",
      "           7       0.00      0.00      0.00         1\n",
      "          23       0.00      0.00      0.00         0\n",
      "          28       1.00      1.00      1.00         1\n",
      "          34       1.00      1.00      1.00         2\n",
      "          38       0.00      0.00      0.00         1\n",
      "          52       0.50      1.00      0.67         1\n",
      "\n",
      "    accuracy                           0.67         6\n",
      "   macro avg       0.42      0.50      0.44         6\n",
      "weighted avg       0.58      0.67      0.61         6\n",
      "\n",
      "\n",
      "Confusion Matrix: \n",
      " [[0 1 0 0 0 0]\n",
      " [0 0 0 0 0 0]\n",
      " [0 0 1 0 0 0]\n",
      " [0 0 0 2 0 0]\n",
      " [0 0 0 0 0 1]\n",
      " [0 0 0 0 0 1]]\n"
     ]
    }
   ],
   "source": [
    "from sklearn.naive_bayes import MultinomialNB\n",
    "\n",
    "model_NB = MultinomialNB( )\n",
    "model_NB.fit( dset.encoded_matrix , dset.y_labelz)\n",
    "enc_q = dset.encodePredict( val_txt) \n",
    "pred_y = model_NB.predict( enc_q  )\n",
    "pred_y = dset.ylabelzAsInts( pred_y)\n",
    "\n",
    "print(f\"Target: {val_ylabz_int}\\nPredicted:{pred_y}\\n\")\n",
    "print( f\"Accuracy Score: { accuracy_score(val_ylabz_int, pred_y) }\\n\")\n",
    "print( f\"Classification Report: \\n{ classification_report(val_ylabz_int, pred_y)}\\n\")\n",
    "print( f\"Confusion Matrix: \\n { confusion_matrix(val_ylabz_int, pred_y)}\")"
   ]
  },
  {
   "cell_type": "markdown",
   "metadata": {},
   "source": [
    "### 3. Ditto @ Random Forest"
   ]
  },
  {
   "cell_type": "code",
   "execution_count": 50,
   "metadata": {},
   "outputs": [
    {
     "data": {
      "text/plain": [
       "RandomForestClassifier(bootstrap=True, class_weight=None, criterion='gini',\n",
       "                       max_depth=None, max_features='auto', max_leaf_nodes=None,\n",
       "                       min_impurity_decrease=0.0, min_impurity_split=None,\n",
       "                       min_samples_leaf=1, min_samples_split=2,\n",
       "                       min_weight_fraction_leaf=0.0, n_estimators=53,\n",
       "                       n_jobs=None, oob_score=False, random_state=None,\n",
       "                       verbose=0, warm_start=False)"
      ]
     },
     "execution_count": 50,
     "metadata": {},
     "output_type": "execute_result"
    },
    {
     "name": "stdout",
     "output_type": "stream",
     "text": [
      "Target: [34, 34, 52, 38, 28, 7]\n",
      "Predicted:[34, 34, 52, 34, 34, 34]\n",
      "\n",
      "Accuracy Score: 0.5\n",
      "\n",
      "Classification Report: \n",
      "              precision    recall  f1-score   support\n",
      "\n",
      "           7       0.00      0.00      0.00         1\n",
      "          28       0.00      0.00      0.00         1\n",
      "          34       0.40      1.00      0.57         2\n",
      "          38       0.00      0.00      0.00         1\n",
      "          52       1.00      1.00      1.00         1\n",
      "\n",
      "    accuracy                           0.50         6\n",
      "   macro avg       0.28      0.40      0.31         6\n",
      "weighted avg       0.30      0.50      0.36         6\n",
      "\n",
      "\n",
      "Confusion Matrix: \n",
      " [[0 0 1 0 0]\n",
      " [0 0 1 0 0]\n",
      " [0 0 2 0 0]\n",
      " [0 0 1 0 0]\n",
      " [0 0 0 0 1]]\n"
     ]
    }
   ],
   "source": [
    "from sklearn.ensemble import RandomForestClassifier\n",
    "\n",
    "model_NB = RandomForestClassifier( n_estimators=dset.getNumberClasses() )\n",
    "model_NB.fit( dset.encoded_matrix , dset.y_labelz)\n",
    "enc_q = dset.encodePredict( val_txt) \n",
    "pred_y = model_NB.predict( enc_q  )\n",
    "pred_y = dset.ylabelzAsInts( pred_y)\n",
    "\n",
    "print(f\"Target: {val_ylabz_int}\\nPredicted:{pred_y}\\n\")\n",
    "print( f\"Accuracy Score: { accuracy_score(val_ylabz_int, pred_y) }\\n\")\n",
    "print( f\"Classification Report: \\n{ classification_report(val_ylabz_int, pred_y)}\\n\")\n",
    "print( f\"Confusion Matrix: \\n { confusion_matrix(val_ylabz_int, pred_y)}\")"
   ]
  },
  {
   "cell_type": "code",
   "execution_count": null,
   "metadata": {},
   "outputs": [],
   "source": []
  }
 ],
 "metadata": {
  "kernelspec": {
   "display_name": "Python 3",
   "language": "python",
   "name": "python3"
  },
  "language_info": {
   "codemirror_mode": {
    "name": "ipython",
    "version": 3
   },
   "file_extension": ".py",
   "mimetype": "text/x-python",
   "name": "python",
   "nbconvert_exporter": "python",
   "pygments_lexer": "ipython3",
   "version": "3.7.4"
  }
 },
 "nbformat": 4,
 "nbformat_minor": 2
}
